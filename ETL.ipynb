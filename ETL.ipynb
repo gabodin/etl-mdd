{
 "cells": [
  {
   "cell_type": "markdown",
   "metadata": {},
   "source": [
    "### Configurando caminhos\n"
   ]
  },
  {
   "cell_type": "code",
   "execution_count": 1,
   "metadata": {},
   "outputs": [],
   "source": [
    "import os\n",
    "\n",
    "# URL da fonte de dados\n",
    "URL = 'https://aplicacoes.mds.gov.br/sagi/servicos/misocial/?fq=anomes_s:2024*&fl=codigo_ibge%2Canomes_s%2Cqtd_familias_beneficiarias_bolsa_familia_s%2Cvalor_repassado_bolsa_familia_s%2Cpbf_vlr_medio_benef_f&fq=valor_repassado_bolsa_familia_s%3A*&q=*%3A*&rows=100000&sort=anomes_s%20desc%2C%20codigo_ibge%20asc&wt=csv'\n",
    "# Caminho local onde o arquivo será salvo\n",
    "workdir = './work/'\n",
    "default_file = 'bolsa-familia2024.csv'\n",
    "workdir_files = os.listdir(workdir)\n",
    "\n",
    "# Caminho do driver jdbc\n",
    "jdbc_driver_path = \"/opt/trabalhos/etl-mdd/postgresql-42.7.1.jar\"\n",
    "file_path = workdir + default_file\n",
    "full_paths = [os.path.join(workdir, file) for file in workdir_files]\n",
    "dataframes_list = []\n"
   ]
  },
  {
   "cell_type": "markdown",
   "metadata": {},
   "source": [
    "### Importando JSON com informações de UF e Município"
   ]
  },
  {
   "cell_type": "code",
   "execution_count": 2,
   "metadata": {},
   "outputs": [],
   "source": [
    "import json\n",
    "\n",
    "uf_code_path = './utils/ibge-codes/uf-code.json'\n",
    "municipios_code_path = './utils/ibge-codes/municipios-code.json'\n",
    "uf_dict, municipios_dict = {}, {}\n",
    "\n",
    "with open(uf_code_path, 'r') as file:\n",
    "    uf_dict = json.load(file)\n",
    "\n",
    "with open(municipios_code_path, 'r') as file:\n",
    "    municipios_dict = json.load(file)\n"
   ]
  },
  {
   "cell_type": "markdown",
   "metadata": {},
   "source": [
    "### Instalando pyspark\n"
   ]
  },
  {
   "cell_type": "code",
   "execution_count": 3,
   "metadata": {},
   "outputs": [
    {
     "name": "stdout",
     "output_type": "stream",
     "text": [
      "Requirement already satisfied: pyspark in /home/gabodin/.local/lib/python3.10/site-packages (3.5.1)\n",
      "Requirement already satisfied: py4j==0.10.9.7 in /home/gabodin/.local/lib/python3.10/site-packages (from pyspark) (0.10.9.7)\n",
      "Note: you may need to restart the kernel to use updated packages.\n"
     ]
    }
   ],
   "source": [
    "%pip install --user pyspark"
   ]
  },
  {
   "cell_type": "markdown",
   "metadata": {},
   "source": [
    "### Criando sessão spark"
   ]
  },
  {
   "cell_type": "code",
   "execution_count": 4,
   "metadata": {},
   "outputs": [
    {
     "name": "stderr",
     "output_type": "stream",
     "text": [
      "your 131072x1 screen size is bogus. expect trouble\n",
      "24/06/18 19:30:40 WARN Utils: Your hostname, RRNWRESID05 resolves to a loopback address: 127.0.1.1; using 172.23.195.127 instead (on interface eth0)\n",
      "24/06/18 19:30:40 WARN Utils: Set SPARK_LOCAL_IP if you need to bind to another address\n",
      "Setting default log level to \"WARN\".\n",
      "To adjust logging level use sc.setLogLevel(newLevel). For SparkR, use setLogLevel(newLevel).\n",
      "24/06/18 19:30:41 WARN NativeCodeLoader: Unable to load native-hadoop library for your platform... using builtin-java classes where applicable\n"
     ]
    }
   ],
   "source": [
    "from pyspark.sql import SparkSession\n",
    "# Cria a sessão spark\n",
    "spark_session = SparkSession.builder.appName('spark') \\\n",
    "                                    .config(\"spark.driver.extraClassPath\", jdbc_driver_path) \\\n",
    "                                    .config(\"spark.executor.memory\", \"4g\") \\\n",
    "                                    .getOrCreate()"
   ]
  },
  {
   "cell_type": "markdown",
   "metadata": {},
   "source": [
    "### Lendo arquivo csv e montando dataframe do spark"
   ]
  },
  {
   "cell_type": "code",
   "execution_count": 5,
   "metadata": {},
   "outputs": [
    {
     "name": "stdout",
     "output_type": "stream",
     "text": [
      "+-----------+--------+------------------------------------------+-------------------------------+\n",
      "|codigo_ibge|anomes_s|qtd_familias_beneficiarias_bolsa_familia_s|valor_repassado_bolsa_familia_s|\n",
      "+-----------+--------+------------------------------------------+-------------------------------+\n",
      "|     110001|  202101|                                      1515|                       243899.0|\n",
      "|     110002|  202101|                                      3928|                       594415.0|\n",
      "|     110003|  202101|                                       190|                        31455.0|\n",
      "|     110004|  202101|                                      3115|                       522167.0|\n",
      "|     110005|  202101|                                       710|                       106890.0|\n",
      "|     110006|  202101|                                       372|                        59947.0|\n",
      "|     110007|  202101|                                       379|                        59521.0|\n",
      "|     110008|  202101|                                      1722|                       300733.0|\n",
      "|     110009|  202101|                                      1546|                       264476.0|\n",
      "|     110010|  202101|                                      3349|                       631594.0|\n",
      "|     110011|  202101|                                      2068|                       284954.0|\n",
      "|     110012|  202101|                                      2417|                       368969.0|\n",
      "|     110013|  202101|                                      1811|                       263280.0|\n",
      "|     110014|  202101|                                      1424|                       209093.0|\n",
      "|     110015|  202101|                                      1155|                       182611.0|\n",
      "|     110018|  202101|                                       862|                       144226.0|\n",
      "|     110020|  202101|                                     26386|                      4207612.0|\n",
      "|     110025|  202101|                                      1688|                       272533.0|\n",
      "|     110026|  202101|                                       191|                        35013.0|\n",
      "|     110028|  202101|                                      1438|                       210538.0|\n",
      "+-----------+--------+------------------------------------------+-------------------------------+\n",
      "only showing top 20 rows\n",
      "\n",
      "+-----------+--------+------------------------------------------+-------------------------------+---------------------+\n",
      "|codigo_ibge|anomes_s|qtd_familias_beneficiarias_bolsa_familia_s|valor_repassado_bolsa_familia_s|pbf_vlr_medio_benef_f|\n",
      "+-----------+--------+------------------------------------------+-------------------------------+---------------------+\n",
      "|     110001|  202406|                                      1705|                      1176837.0|               690.63|\n",
      "|     110002|  202406|                                      7494|                      5117672.0|               683.82|\n",
      "|     110003|  202406|                                       323|                       214990.0|                665.6|\n",
      "|     110004|  202406|                                      6105|                      4127413.0|               676.18|\n",
      "|     110005|  202406|                                      1203|                       862839.0|               718.43|\n",
      "|     110006|  202406|                                       492|                       340501.0|               692.08|\n",
      "|     110007|  202406|                                       330|                       213355.0|               646.53|\n",
      "|     110008|  202406|                                      2123|                      1530740.0|               721.71|\n",
      "|     110009|  202406|                                      1774|                      1173571.0|               662.29|\n",
      "|     110010|  202406|                                      5038|                      3904677.0|               776.28|\n",
      "|     110011|  202406|                                      3560|                      2361603.0|               664.49|\n",
      "|     110012|  202406|                                      7676|                      5264932.0|               686.34|\n",
      "|     110013|  202406|                                      2781|                      1898136.0|               682.54|\n",
      "|     110014|  202406|                                      1599|                      1028141.0|               642.99|\n",
      "|     110015|  202406|                                      2475|                      1675150.0|               677.92|\n",
      "|     110018|  202406|                                      1645|                      1100733.0|               669.55|\n",
      "|     110020|  202406|                                     40892|                    2.8563667E7|               698.98|\n",
      "|     110025|  202406|                                      2246|                      1488779.0|               662.86|\n",
      "|     110026|  202406|                                       228|                       160052.0|               701.98|\n",
      "|     110028|  202406|                                      2110|                      1409088.0|               668.13|\n",
      "+-----------+--------+------------------------------------------+-------------------------------+---------------------+\n",
      "only showing top 20 rows\n",
      "\n",
      "+-----------+--------+------------------------------------------+-------------------------------+---------------------+\n",
      "|codigo_ibge|anomes_s|qtd_familias_beneficiarias_bolsa_familia_s|valor_repassado_bolsa_familia_s|pbf_vlr_medio_benef_f|\n",
      "+-----------+--------+------------------------------------------+-------------------------------+---------------------+\n",
      "|     110001|  202312|                                      1724|                      1179011.0|               685.47|\n",
      "|     110002|  202312|                                      6718|                      4569752.0|               681.14|\n",
      "|     110003|  202312|                                       326|                       217310.0|                666.6|\n",
      "|     110004|  202312|                                      5921|                      4008414.0|               677.21|\n",
      "|     110005|  202312|                                      1123|                       800852.0|               713.14|\n",
      "|     110006|  202312|                                       493|                       334145.0|               680.54|\n",
      "|     110007|  202312|                                       357|                       233019.0|               652.71|\n",
      "|     110008|  202312|                                      2105|                      1506744.0|               719.55|\n",
      "|     110009|  202312|                                      1832|                      1228978.0|               671.57|\n",
      "|     110010|  202312|                                      4932|                      3838589.0|               779.41|\n",
      "|     110011|  202312|                                      3236|                      2154804.0|               667.54|\n",
      "|     110012|  202312|                                      6950|                      4816309.0|               693.89|\n",
      "|     110013|  202312|                                      2755|                      1899299.0|                689.9|\n",
      "|     110014|  202312|                                      1673|                      1092422.0|               652.97|\n",
      "|     110015|  202312|                                      2380|                      1618965.0|               682.53|\n",
      "|     110018|  202312|                                      1564|                      1053770.0|               675.93|\n",
      "|     110020|  202312|                                     43944|                    3.0363987E7|               693.29|\n",
      "|     110025|  202312|                                      2288|                      1511362.0|               660.56|\n",
      "|     110026|  202312|                                       227|                       158599.0|               698.67|\n",
      "|     110028|  202312|                                      2030|                      1360632.0|               671.59|\n",
      "+-----------+--------+------------------------------------------+-------------------------------+---------------------+\n",
      "only showing top 20 rows\n",
      "\n",
      "+-----------+--------+------------------------------------------+-------------------------------+\n",
      "|codigo_ibge|anomes_s|qtd_familias_beneficiarias_bolsa_familia_s|valor_repassado_bolsa_familia_s|\n",
      "+-----------+--------+------------------------------------------+-------------------------------+\n",
      "|     110001|  201901|                                      1460|                       229913.0|\n",
      "|     110002|  201901|                                      3824|                       569381.0|\n",
      "|     110003|  201901|                                       173|                        25001.0|\n",
      "|     110004|  201901|                                      2608|                       396779.0|\n",
      "|     110005|  201901|                                       663|                       101141.0|\n",
      "|     110006|  201901|                                       362|                        48975.0|\n",
      "|     110007|  201901|                                       414|                        60428.0|\n",
      "|     110008|  201901|                                      1637|                       301156.0|\n",
      "|     110009|  201901|                                      1349|                       211191.0|\n",
      "|     110010|  201901|                                      2990|                       544379.0|\n",
      "|     110011|  201901|                                      2083|                       260096.0|\n",
      "|     110012|  201901|                                      2494|                       342884.0|\n",
      "|     110013|  201901|                                      1966|                       252282.0|\n",
      "|     110014|  201901|                                      1406|                       194254.0|\n",
      "|     110015|  201901|                                       947|                       121488.0|\n",
      "|     110018|  201901|                                       802|                       119407.0|\n",
      "|     110020|  201901|                                     24533|                      3917198.0|\n",
      "|     110025|  201901|                                      1758|                       281199.0|\n",
      "|     110026|  201901|                                       170|                        25345.0|\n",
      "|     110028|  201901|                                      1361|                       169912.0|\n",
      "+-----------+--------+------------------------------------------+-------------------------------+\n",
      "only showing top 20 rows\n",
      "\n",
      "+-----------+--------+------------------------------------------+-------------------------------+\n",
      "|codigo_ibge|anomes_s|qtd_familias_beneficiarias_bolsa_familia_s|valor_repassado_bolsa_familia_s|\n",
      "+-----------+--------+------------------------------------------+-------------------------------+\n",
      "|     110001|  202001|                                      1521|                       232541.0|\n",
      "|     110002|  202001|                                      3626|                       518218.0|\n",
      "|     110003|  202001|                                       180|                        25892.0|\n",
      "|     110004|  202001|                                      2970|                       465018.0|\n",
      "|     110005|  202001|                                       686|                        98866.0|\n",
      "|     110006|  202001|                                       360|                        51411.0|\n",
      "|     110007|  202001|                                       390|                        55790.0|\n",
      "|     110008|  202001|                                      1592|                       284087.0|\n",
      "|     110009|  202001|                                      1486|                       239652.0|\n",
      "|     110010|  202001|                                      2871|                       534240.0|\n",
      "|     110011|  202001|                                      2051|                       240437.0|\n",
      "|     110012|  202001|                                      2290|                       298485.0|\n",
      "|     110013|  202001|                                      1836|                       229584.0|\n",
      "|     110014|  202001|                                      1387|                       187519.0|\n",
      "|     110015|  202001|                                      1075|                       144607.0|\n",
      "|     110018|  202001|                                       873|                       132769.0|\n",
      "|     110020|  202001|                                     22406|                      3616870.0|\n",
      "|     110025|  202001|                                      1509|                       238356.0|\n",
      "|     110026|  202001|                                       183|                        30142.0|\n",
      "|     110028|  202001|                                      1441|                       181240.0|\n",
      "+-----------+--------+------------------------------------------+-------------------------------+\n",
      "only showing top 20 rows\n",
      "\n",
      "+-----------+--------+------------------------------------------+-------------------------------+\n",
      "|codigo_ibge|anomes_s|qtd_familias_beneficiarias_bolsa_familia_s|valor_repassado_bolsa_familia_s|\n",
      "+-----------+--------+------------------------------------------+-------------------------------+\n",
      "|     110001|  201701|                                      1654|                       275049.0|\n",
      "|     110002|  201701|                                      4348|                       603935.0|\n",
      "|     110003|  201701|                                       261|                        33499.0|\n",
      "|     110004|  201701|                                      2801|                       358079.0|\n",
      "|     110005|  201701|                                       748|                       108670.0|\n",
      "|     110006|  201701|                                       424|                        49586.0|\n",
      "|     110007|  201701|                                       615|                        90410.0|\n",
      "|     110008|  201701|                                      1692|                       334984.0|\n",
      "|     110009|  201701|                                      1474|                       220074.0|\n",
      "|     110010|  201701|                                      3353|                       570939.0|\n",
      "|     110011|  201701|                                      2965|                       383060.0|\n",
      "|     110012|  201701|                                      4065|                       588855.0|\n",
      "|     110013|  201701|                                      2469|                       323272.0|\n",
      "|     110014|  201701|                                      1842|                       261244.0|\n",
      "|     110015|  201701|                                      1221|                       176060.0|\n",
      "|     110018|  201701|                                      1246|                       190759.0|\n",
      "|     110020|  201701|                                     23595|                      3727040.0|\n",
      "|     110025|  201701|                                      2023|                       359415.0|\n",
      "|     110026|  201701|                                       298|                        47048.0|\n",
      "|     110028|  201701|                                      1685|                       196957.0|\n",
      "+-----------+--------+------------------------------------------+-------------------------------+\n",
      "only showing top 20 rows\n",
      "\n",
      "+-----------+--------+------------------------------------------+-------------------------------+\n",
      "|codigo_ibge|anomes_s|qtd_familias_beneficiarias_bolsa_familia_s|valor_repassado_bolsa_familia_s|\n",
      "+-----------+--------+------------------------------------------+-------------------------------+\n",
      "|     110001|  201801|                                      1594|                       248748.0|\n",
      "|     110002|  201801|                                      4149|                       584259.0|\n",
      "|     110003|  201801|                                       213|                        28617.0|\n",
      "|     110004|  201801|                                      2536|                       341439.0|\n",
      "|     110005|  201801|                                       682|                       100676.0|\n",
      "|     110006|  201801|                                       414|                        48644.0|\n",
      "|     110007|  201801|                                       495|                        70728.0|\n",
      "|     110008|  201801|                                      1733|                       333730.0|\n",
      "|     110009|  201801|                                      1455|                       215964.0|\n",
      "|     110010|  201801|                                      3075|                       522890.0|\n",
      "|     110011|  201801|                                      2461|                       306371.0|\n",
      "|     110012|  201801|                                      2801|                       407024.0|\n",
      "|     110013|  201801|                                      2249|                       283217.0|\n",
      "|     110014|  201801|                                      1577|                       212015.0|\n",
      "|     110015|  201801|                                      1083|                       135611.0|\n",
      "|     110018|  201801|                                      1007|                       143451.0|\n",
      "|     110020|  201801|                                     24169|                      3704181.0|\n",
      "|     110025|  201801|                                      2027|                       342442.0|\n",
      "|     110026|  201801|                                       209|                        31984.0|\n",
      "|     110028|  201801|                                      1575|                       182440.0|\n",
      "+-----------+--------+------------------------------------------+-------------------------------+\n",
      "only showing top 20 rows\n",
      "\n"
     ]
    }
   ],
   "source": [
    "df = spark_session.read.options(header=\"true\", delimiter=\",\", encoding=\"ISO-8859-1\", inferSchema=True).csv(file_path)\n",
    "\n",
    "for arquivo in full_paths:\n",
    "    dataframes_list.append(spark_session.read.options(header=\"true\", delimiter=\",\", encoding=\"ISO-8859-1\", inferSchema=True).csv(arquivo))\n",
    "\n",
    "column_changes = [\n",
    "    (\"ibge\", \"codigo_ibge\"),\n",
    "    (\"anomes\", \"anomes_s\"),\n",
    "    (\"qtd_familias_beneficiarias_bolsa_familia\", \"qtd_familias_beneficiarias_bolsa_familia_s\"),\n",
    "    (\"valor_repassado_bolsa_familia\", \"valor_repassado_bolsa_familia_s\")\n",
    "]\n",
    "\n",
    "### Adequando nomes de coluna\n",
    "for index, ano_csv in enumerate(dataframes_list):\n",
    "    for nome_antigo, nome_padrao in column_changes:\n",
    "        if nome_antigo in ano_csv.columns:\n",
    "            ano_csv = ano_csv.withColumnRenamed(nome_antigo, nome_padrao)\n",
    "\n",
    "    dataframes_list[index] = ano_csv\n",
    "\n",
    "for ano_csv in dataframes_list:\n",
    "    ano_csv.show()   \n",
    "\n",
    "# df.show()"
   ]
  },
  {
   "cell_type": "code",
   "execution_count": 6,
   "metadata": {},
   "outputs": [],
   "source": [
    "# Retirado de: https://medium.com/@salibi/como-validar-o-c%C3%B3digo-de-munic%C3%ADpio-do-ibge-90dc545cc533#:~:text=O%20C%C3%B3digo%20de%20Munic%C3%ADpio%20do%20IBGE%20%C3%A9%20um%20identificador%20%C3%BAnico,o%20%C3%BAltimo%20d%C3%ADgito%2C%20um%20verificador.\n",
    "\n",
    "def last_digit_ibge(cod6: str):\n",
    "   city_exceptions = {\n",
    "                      '220191': \"2201919\",\n",
    "                      '290630': \"2202251\",\n",
    "                      '220198': \"2201988\",\n",
    "                      '261153': \"2611533\",\n",
    "                      '311783': \"3117836\",\n",
    "                      '315213': \"3152131\",\n",
    "                      '430587': \"4305871\",\n",
    "                      '520393': \"5203939\",\n",
    "                      '520396': \"5203962\",\n",
    "                     }\n",
    "   \n",
    "   if cod6 in city_exceptions:\n",
    "      return city_exceptions.get(cod6)\n",
    "\n",
    "   a = int(cod6[0])\n",
    "   b = (int(cod6[1]) * 2) % 10 + (int(cod6[1]) * 2) // 10\n",
    "   c = int(cod6[2])\n",
    "   d = (int(cod6[3]) * 2) % 10 + (int(cod6[3]) * 2) // 10\n",
    "   e = int(cod6[4])\n",
    "   f = (int(cod6[5]) * 2) % 10 + (int(cod6[5]) * 2) // 10\n",
    "   digit = (10 - (a + b + c + d + e + f) % 10) % 10\n",
    "   \n",
    "   return cod6 + str(digit)\n",
    "\n"
   ]
  },
  {
   "cell_type": "markdown",
   "metadata": {},
   "source": [
    "### Criando coluna de média para dados antes de 2023"
   ]
  },
  {
   "cell_type": "code",
   "execution_count": 10,
   "metadata": {},
   "outputs": [
    {
     "name": "stdout",
     "output_type": "stream",
     "text": [
      "Column<'(valor_repassado_bolsa_familia_s / qtd_familias_beneficiarias_bolsa_familia_s)'>\n",
      "Column<'(valor_repassado_bolsa_familia_s / qtd_familias_beneficiarias_bolsa_familia_s)'>\n",
      "Column<'(valor_repassado_bolsa_familia_s / qtd_familias_beneficiarias_bolsa_familia_s)'>\n",
      "Column<'(valor_repassado_bolsa_familia_s / qtd_familias_beneficiarias_bolsa_familia_s)'>\n",
      "Column<'(valor_repassado_bolsa_familia_s / qtd_familias_beneficiarias_bolsa_familia_s)'>\n"
     ]
    }
   ],
   "source": [
    "for index, ano_csv in enumerate(dataframes_list):\n",
    "    if 'pbf_vlr_medio_benef_f' not in ano_csv.columns:\n",
    "        valor_medio_bolsa = ano_csv.valor_repassado_bolsa_familia_s / ano_csv.qtd_familias_beneficiarias_bolsa_familia_s\n",
    "        print(valor_medio_bolsa)\n",
    "        \n",
    "        dataframes_list[index] = ano_csv.withColumn('pbf_vlr_medio_benef_f', valor_medio_bolsa)\n"
   ]
  },
  {
   "cell_type": "markdown",
   "metadata": {},
   "source": [
    "### Criando coluna para UF"
   ]
  },
  {
   "cell_type": "code",
   "execution_count": null,
   "metadata": {},
   "outputs": [],
   "source": [
    "from pyspark.sql.functions import udf, col\n",
    "from pyspark.sql.types import StringType\n",
    "\n",
    "def cria_coluna_uf(codigo_ibge):\n",
    "    return  uf_dict.get(str(codigo_ibge)[0:2])\n",
    "\n",
    "cria_coluna_uf_udf = udf(cria_coluna_uf, StringType())\n",
    "\n",
    "df = df.withColumn(\"uf\", cria_coluna_uf_udf(col(\"codigo_ibge\")))\n"
   ]
  },
  {
   "cell_type": "markdown",
   "metadata": {},
   "source": [
    "### Criando coluna para Município"
   ]
  },
  {
   "cell_type": "code",
   "execution_count": null,
   "metadata": {},
   "outputs": [],
   "source": [
    "def cria_coluna_municipio(codigo_ibge):\n",
    "    return  municipios_dict.get(last_digit_ibge(str(codigo_ibge)))\n",
    "\n",
    "cria_coluna_municipio_udf = udf(cria_coluna_municipio, StringType())\n",
    "\n",
    "df = df.withColumn(\"municipio\", cria_coluna_municipio_udf(col(\"codigo_ibge\")))"
   ]
  },
  {
   "cell_type": "markdown",
   "metadata": {},
   "source": [
    "### Criando coluna para Ano"
   ]
  },
  {
   "cell_type": "code",
   "execution_count": null,
   "metadata": {},
   "outputs": [],
   "source": [
    "def cria_coluna_ano(anomes_s):\n",
    "    return  str(anomes_s)[0:4]\n",
    "\n",
    "cria_coluna_ano_udf = udf(cria_coluna_ano, StringType())\n",
    "\n",
    "df = df.withColumn(\"ano\", cria_coluna_ano_udf(col(\"anomes_s\")))"
   ]
  },
  {
   "cell_type": "markdown",
   "metadata": {},
   "source": [
    "### Adicionando colunas UF, Município e Ano"
   ]
  },
  {
   "cell_type": "code",
   "execution_count": null,
   "metadata": {},
   "outputs": [],
   "source": [
    "for index, ano_csv in enumerate(dataframes_list):\n",
    "    ano_csv = ano_csv.withColumn(\"uf\", cria_coluna_uf_udf(col(\"codigo_ibge\")))\n",
    "    ano_csv = ano_csv.withColumn(\"municipio\", cria_coluna_municipio_udf(col(\"codigo_ibge\")))\n",
    "    ano_csv = ano_csv.withColumn(\"ano\", cria_coluna_ano_udf(col(\"anomes_s\")))\n",
    "\n",
    "    dataframes_list[index] = ano_csv\n",
    "\n",
    "for ano_csv in dataframes_list:\n",
    "    ano_csv.show()"
   ]
  },
  {
   "cell_type": "code",
   "execution_count": null,
   "metadata": {},
   "outputs": [],
   "source": [
    "dataframe_unificado =  dataframes_list[0]\n",
    "\n",
    "for dataframe in dataframes_list[1:]:\n",
    "    dataframe_unificado = dataframe_unificado.unionAll(dataframe)\n",
    "\n",
    "dataframe_unificado.show()\n",
    "\n",
    "dataframe_unificado = dataframe_unificado.coalesce(1)\n",
    "\n",
    "output_path = \"output/unified_data.csv\"\n",
    "dataframe_unificado.write.mode(\"overwrite\").csv(output_path, header=True)\n",
    "# Stop the SparkSession\n",
    "spark_session.stop()"
   ]
  },
  {
   "cell_type": "markdown",
   "metadata": {},
   "source": [
    "### Conversão do dataframe para o modelo estrela"
   ]
  },
  {
   "cell_type": "code",
   "execution_count": null,
   "metadata": {},
   "outputs": [],
   "source": [
    "import pyspark.sql.functions as F\n",
    "from typing import Dict, List\n",
    "from pyspark.sql.dataframe import DataFrame\n",
    "\n",
    "def get_columns_list_from_dimension(dimension: Dict[str, List[str]]):\n",
    "    return [col for cols in dimension for col in cols]\n",
    "\n",
    "def get_table_name_and_records(dataframe: DataFrame, dimension_table_name_and_columns: Dict[str, List[str]]) -> List[tuple[str, DataFrame]]:\n",
    "    dimensions = []\n",
    "\n",
    "    for dimension_table_name, dimension_columns in dimension_table_name_and_columns:\n",
    "        dimension_records = dataframe.select(*dimension_columns).distinct()\n",
    "        surrogate_key_column_name = f\"sk_{dimension_table_name.replace('dim_', '')}\"\n",
    "\n",
    "        # add unique and increasing id to dimension (but not consecutive)\n",
    "        unique_and_increasing_id = F.monotonically_increasing_id()\n",
    "        dimension_records = dimension_records.withColumn(\n",
    "            surrogate_key_column_name,\n",
    "            unique_and_increasing_id\n",
    "        )\n",
    "\n",
    "        dimension_table_in_tuple = (dimension_table_name, dimension_records)\n",
    "\n",
    "        dimensions.append(dimension_table_in_tuple)\n",
    "    \n",
    "    return dimensions\n",
    "\n",
    "\n",
    "def transform_spark_dataframe_into_star_schema(\n",
    "    original_dataframe: DataFrame,\n",
    "    fact_columns: List[str]  = [\"col1\", \"col2\"],\n",
    "    fact_table_name = \"tabela_fato\",\n",
    "    mapping_dimension_columns: Dict[str, List[str]] = {'dim1':[\"col3\", \"col4\"], \"dim2\":[\"col5\", \"col6\"]},\n",
    "):\n",
    "    dimension_columns_separated_by_dimension = mapping_dimension_columns.values()\n",
    "\n",
    "    dimension_columns = get_columns_list_from_dimension(dimension_columns_separated_by_dimension)\n",
    "\n",
    "    columns_from_fact_and_dimension = fact_columns + dimension_columns\n",
    "\n",
    "    original_dataframe = original_dataframe.select(*columns_from_fact_and_dimension)\n",
    "\n",
    "    dimension_table_name_and_columns = mapping_dimension_columns.items()\n",
    "\n",
    "    dimensions = get_table_name_and_records(original_dataframe, dimension_table_name_and_columns)\n",
    "\n",
    "    # Substitui as colunas de dimensão pelo respectivo SK na tabela fato\n",
    "    # ------------------------------------------------------------------\n",
    "    for table_name, records in dimensions:\n",
    "        # join the dimension dataframe to the original dataframe\n",
    "        dimension_columns_by_dimension_from_dataframe = [\n",
    "            original_dataframe[column] == records[column]\n",
    "            for column in mapping_dimension_columns[table_name]\n",
    "        ]\n",
    "        \n",
    "        original_dataframe = original_dataframe.join(\n",
    "            F.broadcast(records), \n",
    "            on=dimension_columns_by_dimension_from_dataframe,\n",
    "            how=\"left\"\n",
    "        )\n",
    "\n",
    "    # drop the original columns\n",
    "    original_dataframe = original_dataframe.drop(*dimension_columns)\n",
    "\n",
    "    fact_table = (fact_table_name, original_dataframe)\n",
    "    \n",
    "    return dimensions + [fact_table]"
   ]
  },
  {
   "cell_type": "code",
   "execution_count": null,
   "metadata": {},
   "outputs": [],
   "source": [
    "star_schema = transform_spark_dataframe_into_star_schema(\n",
    "    selected_columns_df,\n",
    "    fact_columns=[\"QT_VOTOS_NOMINAIS_VALIDOS\", \"QT_VOTOS_NOMINAIS\"],\n",
    "    fact_table_name=\"tabela_fato\",\n",
    "    mapping_dimension_columns={\n",
    "        'dim_municipio': [\"SG_UF\", \"NM_MUNICIPIO\"],\n",
    "        'dim_cargo': [\"DS_CARGO\"],\n",
    "        'dim_ds_eleicao':[\"DS_ELEICAO\"],\n",
    "        'dim_partido':[\"SG_PARTIDO\",\"NM_PARTIDO\", \"NR_PARTIDO\"],\n",
    "        'dim_candidato':[\"NM_CANDIDATO\", \"NR_CANDIDATO\", \"NM_URNA_CANDIDATO\"],\n",
    "        'dim_turno':[\"NR_TURNO\"],\n",
    "        'dim_tp_agrangencia':[\"TP_ABRANGENCIA\"],\n",
    "        'dim_zona':[\"NR_ZONA\"],\n",
    "        'dim_situacao_candidatura':[\"DS_SITUACAO_CANDIDATURA\"],\n",
    "        'dim_coligacao':[\"NM_COLIGACAO\", \"DS_COMPOSICAO_COLIGACAO\"],\n",
    "        \"dim_voto_transito\":[\"ST_VOTO_EM_TRANSITO\"],\n",
    "        'dim_situacaof_turno':[\"DS_SIT_TOT_TURNO\"],\n",
    "        'dim_destinacao_voto':[\"NM_TIPO_DESTINACAO_VOTOS\"]\n",
    "    },   \n",
    ")"
   ]
  },
  {
   "cell_type": "markdown",
   "metadata": {},
   "source": [
    "### Configurando conexão com o banco"
   ]
  },
  {
   "cell_type": "code",
   "execution_count": null,
   "metadata": {},
   "outputs": [],
   "source": [
    "hostname_or_ip = \"34.172.175.190\"\n",
    "port = \"443\"\n",
    "db = \"metabase\"\n",
    "user = \"star\"\n",
    "password = \"star\"\n",
    "\n",
    "db_url = \"jdbc:postgresql://\" + hostname_or_ip + \":\" + port + \"/\" + db\n",
    "\n",
    "properties = {\n",
    "    \"user\": user,\n",
    "    \"password\": password,\n",
    "    \"driver\": \"org.postgresql.Driver\", \n",
    "}\n"
   ]
  },
  {
   "cell_type": "markdown",
   "metadata": {},
   "source": [
    "### Transferindo modelo estrela para o banco"
   ]
  },
  {
   "cell_type": "code",
   "execution_count": null,
   "metadata": {},
   "outputs": [],
   "source": [
    "for item in star_schema:\n",
    "    table_name,dataframe = item\n",
    "    print(f\"Writing {table_name} to Eleicoes DB\")\n",
    "    if table_name == \"dim_municipio\":\n",
    "        dataframe.write.jdbc(url=db_url, table=table_name, mode=\"overwrite\", properties=properties)"
   ]
  },
  {
   "cell_type": "markdown",
   "metadata": {},
   "source": [
    "### Desalocando sessão do spark\n"
   ]
  },
  {
   "cell_type": "code",
   "execution_count": null,
   "metadata": {},
   "outputs": [],
   "source": [
    "# Stopping spark session\n",
    "spark_session.stop()\n",
    "\n",
    "# Cleaning up files \n",
    "# Delete the directory and all its contents\n",
    "# import shutil\n",
    "\n",
    "# shutil.rmtree(workdir+'extracted/')"
   ]
  }
 ],
 "metadata": {
  "kernelspec": {
   "display_name": "Python 3 (ipykernel)",
   "language": "python",
   "name": "python3"
  },
  "language_info": {
   "codemirror_mode": {
    "name": "ipython",
    "version": 3
   },
   "file_extension": ".py",
   "mimetype": "text/x-python",
   "name": "python",
   "nbconvert_exporter": "python",
   "pygments_lexer": "ipython3",
   "version": "3.10.12"
  }
 },
 "nbformat": 4,
 "nbformat_minor": 2
}
